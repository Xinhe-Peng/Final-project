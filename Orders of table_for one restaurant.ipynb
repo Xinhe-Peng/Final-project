{
 "cells": [
  {
   "cell_type": "code",
   "execution_count": 86,
   "metadata": {},
   "outputs": [],
   "source": [
    "import numpy as np"
   ]
  },
  {
   "cell_type": "markdown",
   "metadata": {},
   "source": [
    "# Rules and Basic Settings: Classes"
   ]
  },
  {
   "cell_type": "code",
   "execution_count": 87,
   "metadata": {},
   "outputs": [],
   "source": [
    "def mod_pert_random(low, likely, high, confidence=4, samples=30):\n",
    "    \"\"\"Produce random numbers according to the 'Modified PERT' \n",
    "    distribution. \n",
    "    \n",
    "    :param low: The lowest value expected as possible.\n",
    "    \n",
    "    :param likely: The 'most likely' value, statistically, the mode.\n",
    "    :param high: The highest value expected as possible.\n",
    "    :param confidence: This is typically called 'lambda' in literature \n",
    "                        about the Modified PERT distribution. The value\n",
    "                        4 here matches the standard PERT curve. Higher\n",
    "                        values indicate higher confidence in the mode.\n",
    "                        \n",
    "    Formulas from \"Modified Pert Simulation\" by Paulo Buchsbaum.\n",
    "    \"\"\"\n",
    "    # Check minimum & maximum confidence levels to allow:\n",
    "    confidence = min(8, confidence)\n",
    "    confidence = max(2, confidence)\n",
    "\n",
    "    mean = (low + confidence * likely + high)/(confidence + 2)\n",
    "\n",
    "    a = (mean - low)/(high - low) * (confidence + 2)\n",
    "    b = ((confidence + 1) * high - low - confidence * likely) / (high - low)\n",
    "    \n",
    "    beta = np.random.beta(a, b, samples)\n",
    "    beta = beta * (high - low) + low\n",
    "    return beta"
   ]
  },
  {
   "cell_type": "code",
   "execution_count": 88,
   "metadata": {
    "collapsed": false
   },
   "outputs": [],
   "source": [
    "class Queue:\n",
    "    def __init__(self):\n",
    "        self.groups=[]\n",
    "    \n",
    "    def queue_size(self):\n",
    "        return len(self.groups)\n",
    "    \n",
    "    def isEmpty(self):\n",
    "        if len(self.groups)> 0:\n",
    "            return False\n",
    "        else:\n",
    "            \n",
    "            return True\n",
    "    \n",
    "    def add_queue(self, group):\n",
    "        if group.get_vip():   # If current group is a VIP group, move it forward by four groups,\n",
    "            enterQueue=False\n",
    "            if len(self.groups) >= 4:\n",
    "                for i in range(0,4):\n",
    "                    if self.groups[i].get_vip():\n",
    "                        self.groups.insert(i,group)\n",
    "                        enterQueue=True\n",
    "                        break\n",
    "                if (enterQueue is False):\n",
    "                        self.groups.insert(4,group)\n",
    "            elif len(self.groups) > 1 and len(self.groups) < 4:\n",
    "                for i in range(0,len(self.groups)):\n",
    "                    if self.groups[i].get_vip():\n",
    "                        self.groups.insert(i,group)\n",
    "                        enterQueue=True\n",
    "                        break\n",
    "                if (enterQueue is False):\n",
    "                    self.groups.insert(1,group)\n",
    "            elif len(self.groups)<=1:\n",
    "                self.groups.insert(0,group)\n",
    "        elif group.get_vip() is False: \n",
    "            self.groups.insert(0,group)\n",
    "            \n",
    "    \n",
    "    def del_queue(self): #delete last=delete first come group \n",
    "        return self.groups.pop()  "
   ]
  },
  {
   "cell_type": "code",
   "execution_count": 89,
   "metadata": {
    "collapsed": true
   },
   "outputs": [],
   "source": [
    "# this class can be regarded as \"class printer\" in that case.\n",
    "class Table:\n",
    "    def __init__(self, num, size):\n",
    "        self.num = num  # No. of the table\n",
    "        self.size = size  # Size of the table: for group of up to 2, 4 or 6.\n",
    "        \n",
    "        self.currentGroup = None # Is the table occupied or not.\n",
    "        \n",
    "    def busy(self):\n",
    "        if self.currentGroup != None:\n",
    "            return True\n",
    "        else:\n",
    "            return False      \n",
    "    \n",
    "    def startNext(self, newGroup):\n",
    "        self.currentGroup = newGroup\n",
    "    \n",
    "    def cleanTable(self):  #when one group finish their meal, set their table's current group to none\n",
    "        self.currentGroup = None\n",
    "    \n",
    "    def get_num(self):\n",
    "        return self.num"
   ]
  },
  {
   "cell_type": "code",
   "execution_count": 90,
   "metadata": {},
   "outputs": [],
   "source": [
    "class Group:\n",
    "    def __init__(self, time, size, vip, groupID):\n",
    "        self.timestamp = time # Time when group registered (entered into the queue)\n",
    "        self.size = size #randomly define size from 1 - 6\n",
    "        self.vip = vip # Whether the group is a vip group\n",
    "        self.table= None # Which table the group will be assigned to\n",
    "        self.timeRequest = mod_pert_random(0, 45, 120, samples=1).astype(int)  #How long will the group spend\n",
    "        self.groupID=groupID\n",
    "    \n",
    "    def get_groupID(self):\n",
    "        return self.groupID\n",
    "    \n",
    "    def get_stamp(self):\n",
    "        return self.timestamp\n",
    "    \n",
    "    def get_size(self):\n",
    "        return self.size\n",
    "    \n",
    "    \n",
    "    def wait_time(self, current_time):\n",
    "        return current_time - self.timestamp\n",
    "    \n",
    "    def get_vip(self):\n",
    "        return self.vip\n",
    "    \n",
    "    def get_time_request(self): \n",
    "        return self.timeRequest"
   ]
  },
  {
   "cell_type": "code",
   "execution_count": 91,
   "metadata": {},
   "outputs": [],
   "source": [
    "def tablesSetting(number_tables_2, number_tables_4, number_tables_6):\n",
    "    table_2_list = []\n",
    "    table_4_list = []\n",
    "    table_6_list = [] \n",
    "    for i in range(number_tables_2):\n",
    "        table_2_list.append(Table(i,2))\n",
    "    \n",
    "    for i in range(number_tables_4):\n",
    "        table_4_list.append(Table(i+number_tables_2,4))\n",
    "    \n",
    "    for i in range(number_tables_6):\n",
    "        table_6_list.append(Table(i+number_tables_4+number_tables_2,6))\n",
    "    \n",
    "    return (table_2_list, table_4_list, table_6_list)"
   ]
  },
  {
   "cell_type": "code",
   "execution_count": 92,
   "metadata": {},
   "outputs": [],
   "source": [
    "def TableFinish(current_time, nextGroup_endTime, table_type):\n",
    "    if (current_time in nextGroup_endTime.values()):\n",
    "        for n in list(nextGroup_endTime.keys()):\n",
    "            if current_time == int(nextGroup_endTime[n]):\n",
    "                if len(table_type)==6:\n",
    "                    table_type[n].cleanTable()\n",
    "                elif len(table_type)==4:\n",
    "                    table_type[n-6].cleanTable()\n",
    "                elif len(table_type)==2:\n",
    "                    table_type[n-10].cleanTable()"
   ]
  },
  {
   "cell_type": "markdown",
   "metadata": {},
   "source": [
    "# Data Generation and Simulation"
   ]
  },
  {
   "cell_type": "markdown",
   "metadata": {},
   "source": [
    "# 3. Simulation for 3 kinds of tables!\n",
    "## Please run this version! start from here!"
   ]
  },
  {
   "cell_type": "code",
   "execution_count": 96,
   "metadata": {},
   "outputs": [],
   "source": [
    "def simulation(current_time, table, queue, total_time, total_timeR, nextGroup_endTime):\n",
    "    \n",
    "    TableFinish(current_time, nextGroup_endTime, table)                \n",
    "        \n",
    "    for t in table:\n",
    "        if (t.busy() == False) and (not queue.isEmpty()):\n",
    "            nextGroup = queue.del_queue()\n",
    "            t.startNext(nextGroup)\n",
    "            print('Group No.',nextGroup.get_groupID(),'will be assigned to Table',t.get_num(),'.\\n'\n",
    "                  'Their waiting time is',nextGroup.wait_time(current_time),'minute(s).\\n')\n",
    "            # Update the ending time for tables\n",
    "            nextGroup_endTime[t.get_num()] = current_time+nextGroup.get_time_request()+2  \n",
    "            total_timeR.append(int(nextGroup.get_time_request())+2) \n",
    "                \n",
    "    # Simulation duartion is done, for groups who are not assigned\n",
    "    if current_time == total_time-1:#total_time: Duration\n",
    "        at_least_waittime = []\n",
    "        for i in range(queue.queue_size()):\n",
    "            if len(nextGroup_endTime) > 0:\n",
    "                next_finish_time = min(nextGroup_endTime.values())\n",
    "                next_finish_table = min(nextGroup_endTime, key=nextGroup_endTime.get)\n",
    "                unpro_next = queue.del_queue()\n",
    "                        \n",
    "                print('Group', unpro_next.get_groupID(), 'needs to wait', \n",
    "                      int(unpro_next.wait_time(next_finish_time)),'minute(s) to be assigned.')\n",
    "                at_least_waittime.append(int(unpro_next.wait_time(next_finish_time)))\n",
    "                nextGroup_endTime.pop(next_finish_table)\n",
    "            else:\n",
    "                unpro_next = queue.del_queue()\n",
    "                print('There are still', i, 'Groups in front of Group No.',\n",
    "                       unpro_next.get_groupID(), 'they need to wait at least',max(at_least_waittime),\n",
    "                      'minute(s) to be assigned.')\n",
    "        #avg_timeR = sum(total_timeR)/len(total_timeR)"
   ]
  },
  {
   "cell_type": "code",
   "execution_count": 97,
   "metadata": {},
   "outputs": [],
   "source": [
    "def generation(Duration, amount):\n",
    "    # Generate group sizes, the total group number is \"amount\"\n",
    "    # the number of people in each group is between 1 and 6\n",
    "    size = np.random.randint(1,7,amount)\n",
    "    # Generate vip situation, based on the probability of 8%\n",
    "    vip = []\n",
    "    for i in range(amount):\n",
    "        num = np.random.randint(0, 101, 1)\n",
    "        if (num >= 0) & (num <= 8):\n",
    "            vip.append(True)\n",
    "        else:\n",
    "            vip.append(False)\n",
    "    # Generate the registration time for each group\n",
    "    timestamp_list = mod_pert_random(0, Duration // 2, Duration, samples=amount).astype(int)\n",
    "    timestamp_list = list(timestamp_list)\n",
    "\n",
    "    counter = 0\n",
    "    queue_2 = Queue()\n",
    "    queue_4 = Queue()\n",
    "    queue_6 = Queue()\n",
    "    \n",
    "    table_2,table_4,table_6=tablesSetting(6,4,2)  #Initializing tables\n",
    "    \n",
    "    total_timeR_2 = [] # For calculating total average waiting time\n",
    "    nextGroup_endTime_2 ={} # {No. of table: the ending time of the table}\n",
    "    \n",
    "    total_timeR_4 = []\n",
    "    nextGroup_endTime_4 ={}\n",
    "    total_timeR_6 = []\n",
    "    nextGroup_endTime_6 ={}\n",
    "    \n",
    "    groupNumb=0  #all group have their unique ID\n",
    "    \n",
    "    \n",
    "    for i in range(Duration):\n",
    "        #print(i,'/n')\n",
    "        while i in timestamp_list:\n",
    "            #print(size[counter],'**')\n",
    "            if size[counter] == 1 or size[counter] == 2:\n",
    "                queue_2.add_queue(Group(i, 2, vip[counter],groupNumb))\n",
    "                counter += 1\n",
    "                groupNumb += 1\n",
    "            elif size[counter] == 3 or size[counter] == 4:\n",
    "                queue_4.add_queue(Group(i, 4, vip[counter],groupNumb))\n",
    "                counter += 1\n",
    "                groupNumb += 1\n",
    "            elif size[counter] == 5 or size[counter] == 6:\n",
    "                queue_6.add_queue(Group(i, 6, vip[counter],groupNumb))\n",
    "                counter += 1\n",
    "                groupNumb += 1\n",
    "            timestamp_list.remove(i) # Deal with the situation that several groups arrive at the same time point\n",
    "        \n",
    "        #Run the simulation        \n",
    "        simulation(i, table_2, queue_2, Duration, total_timeR_2, nextGroup_endTime_2)\n",
    "        simulation(i, table_4, queue_4, Duration, total_timeR_4, nextGroup_endTime_4)\n",
    "        simulation(i, table_6, queue_6, Duration, total_timeR_6, nextGroup_endTime_6)"
   ]
  },
  {
   "cell_type": "code",
   "execution_count": 98,
   "metadata": {},
   "outputs": [
    {
     "name": "stdout",
     "output_type": "stream",
     "text": [
      "Group No. 0 will be assigned to Table 0 .\nTheir waiting time is 0 minute(s).\n\nGroup No. 1 will be assigned to Table 1 .\nTheir waiting time is 0 minute(s).\n\nGroup No. 3 will be assigned to Table 2 .\nTheir waiting time is 0 minute(s).\n\nGroup No. 2 will be assigned to Table 10 .\nTheir waiting time is 0 minute(s).\n\nGroup No. 4 will be assigned to Table 11 .\nTheir waiting time is 0 minute(s).\n\nGroup No. 6 will be assigned to Table 0 .\nTheir waiting time is 0 minute(s).\n\nGroup No. 7 will be assigned to Table 3 .\nTheir waiting time is 0 minute(s).\n\nGroup No. 8 will be assigned to Table 4 .\nTheir waiting time is 0 minute(s).\n\nGroup No. 5 will be assigned to Table 10 .\nTheir waiting time is 15 minute(s).\n\nGroup No. 9 will be assigned to Table 6 .\nTheir waiting time is 0 minute(s).\n\nGroup No. 11 will be assigned to Table 1 .\nTheir waiting time is 0 minute(s).\n\nGroup No. 14 will be assigned to Table 7 .\nTheir waiting time is 0 minute(s).\n\nGroup No. 10 will be assigned to Table 11 .\nTheir waiting time is 23 minute(s).\n\nGroup No. 15 will be assigned to Table 6 .\nTheir waiting time is 0 minute(s).\n\nGroup No. 13 will be assigned to Table 10 .\nTheir waiting time is 37 minute(s).\n\nGroup No. 19 will be assigned to Table 1 .\nTheir waiting time is 0 minute(s).\n\nGroup No. 21 will be assigned to Table 7 .\nTheir waiting time is 0 minute(s).\n\nGroup No. 22 will be assigned to Table 2 .\nTheir waiting time is 0 minute(s).\n\nGroup No. 24 will be assigned to Table 3 .\nTheir waiting time is 0 minute(s).\n\nGroup No. 12 will be assigned to Table 11 .\nTheir waiting time is 69 minute(s).\n\nGroup No. 25 will be assigned to Table 8 .\nTheir waiting time is 0 minute(s).\n\nGroup No. 26 will be assigned to Table 0 .\nTheir waiting time is 0 minute(s).\n\nGroup No. 27 will be assigned to Table 6 .\nTheir waiting time is 0 minute(s).\n\nGroup No. 28 will be assigned to Table 4 .\nTheir waiting time is 0 minute(s).\n\nGroup No. 16 will be assigned to Table 11 .\nTheir waiting time is 74 minute(s).\n\nGroup No. 29 will be assigned to Table 7 .\nTheir waiting time is 0 minute(s).\n\nGroup No. 17 will be assigned to Table 10 .\nTheir waiting time is 70 minute(s).\n\nGroup No. 18 will be assigned to Table 11 .\nTheir waiting time is 81 minute(s).\n\nGroup 20 needs to wait 82 minute(s) to be assigned.\nGroup 23 needs to wait 139 minute(s) to be assigned.\n"
     ]
    }
   ],
   "source": [
    "generation(241,30) "
   ]
  }
 ],
 "metadata": {
  "kernelspec": {
   "display_name": "anaconda3py3",
   "language": "python",
   "name": "anaconda3py3"
  },
  "language_info": {
   "codemirror_mode": {
    "name": "ipython",
    "version": 3
   },
   "file_extension": ".py",
   "mimetype": "text/x-python",
   "name": "python",
   "nbconvert_exporter": "python",
   "pygments_lexer": "ipython3",
   "version": "3.6.2"
  }
 },
 "nbformat": 4,
 "nbformat_minor": 0
}
