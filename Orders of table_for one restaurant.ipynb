{
 "cells": [
  {
   "cell_type": "code",
   "execution_count": 3,
   "metadata": {},
   "outputs": [],
   "source": [
    "import numpy as np"
   ]
  },
  {
   "cell_type": "code",
   "execution_count": 6,
   "metadata": {},
   "outputs": [],
   "source": [
    "def mod_pert_random(low, likely, high, confidence=4, samples=30):\n",
    "    \"\"\"Produce random numbers according to the 'Modified PERT' \n",
    "    distribution. \n",
    "    \n",
    "    :param low: The lowest value expected as possible.\n",
    "    \n",
    "    :param likely: The 'most likely' value, statistically, the mode.\n",
    "    :param high: The highest value expected as possible.\n",
    "    :param confidence: This is typically called 'lambda' in literature \n",
    "                        about the Modified PERT distribution. The value\n",
    "                        4 here matches the standard PERT curve. Higher\n",
    "                        values indicate higher confidence in the mode.\n",
    "                        \n",
    "    Formulas from \"Modified Pert Simulation\" by Paulo Buchsbaum.\n",
    "    \"\"\"\n",
    "    # Check minimum & maximum confidence levels to allow:\n",
    "    confidence = min(8, confidence)\n",
    "    confidence = max(2, confidence)\n",
    "\n",
    "    mean = (low + confidence * likely + high)/(confidence + 2)\n",
    "\n",
    "    a = (mean - low)/(high - low) * (confidence + 2)\n",
    "    b = ((confidence + 1) * high - low - confidence * likely) / (high - low)\n",
    "    \n",
    "    beta = np.random.beta(a, b, samples)\n",
    "    beta = beta * (high - low) + low\n",
    "    return beta"
   ]
  },
  {
   "cell_type": "code",
   "execution_count": 230,
   "metadata": {
    "collapsed": false
   },
   "outputs": [],
   "source": [
    "class Queue:\n",
    "    def __init__(self):\n",
    "        self.groups=[]\n",
    "    \n",
    "    def queue_size(self):\n",
    "        return len(self.groups)\n",
    "    \n",
    "    def isEmpty(self):\n",
    "        if len(self.groups)> 0:\n",
    "            return False\n",
    "        else:\n",
    "            \n",
    "            return True\n",
    "    \n",
    "    def add_queue(self, group):\n",
    "        if group.get_vip():   # If current group is a VIP group, move it forward by four groups,\n",
    "            enterQueue=False\n",
    "            if len(self.groups) >= 4:\n",
    "                for i in range(0,4):\n",
    "                    if self.groups[i].get_vip():\n",
    "                        self.groups.insert(i,group)\n",
    "                        enterQueue=True\n",
    "                        break\n",
    "                if (enterQueue is False):\n",
    "                        self.groups.insert(4,group)\n",
    "            elif len(self.groups) > 1 and len(self.groups) < 4:\n",
    "                for i in range(0,len(self.groups)):\n",
    "                    if self.groups[i].get_vip():\n",
    "                        self.groups.insert(i,group)\n",
    "                        enterQueue=True\n",
    "                        break\n",
    "                if (enterQueue is False):\n",
    "                    self.groups.insert(1,group)\n",
    "        else: \n",
    "            self.groups.insert(0,group)\n",
    "            \n",
    "    \n",
    "    def del_queue(self): #delete last=delete first come group \n",
    "        return self.groups.pop()  "
   ]
  },
  {
   "cell_type": "code",
   "execution_count": 8,
   "metadata": {
    "collapsed": true
   },
   "outputs": [],
   "source": [
    "# this class can be regarded as \"class printer\" in that case.\n",
    "class Table:\n",
    "    def __init__(self, num, size):\n",
    "        self.num= num # No. of the table\n",
    "        self.size = size # Size of the table: for group of up to 2, 4 or 6.\n",
    "        \n",
    "        self.currentGroup = None # Is the table occupied or not.\n",
    "        \n",
    "    def busy(self):\n",
    "        if self.currentGroup != None:\n",
    "            return True\n",
    "        else:\n",
    "            return False      \n",
    "    \n",
    "    def startNext(self, newGroup):\n",
    "        self.currentGroup = newGroup"
   ]
  },
  {
   "cell_type": "code",
   "execution_count": 130,
   "metadata": {},
   "outputs": [],
   "source": [
    "class Group:\n",
    "    def __init__(self, time, size, vip, groupID):\n",
    "        self.timestamp = time # Time when group registered (entered into the queue)\n",
    "        self.size = size #randomly define size from 1 - 6\n",
    "        self.vip = vip # Whether the group is a vip group\n",
    "        self.table= None # Which table the group will be assigned to\n",
    "        self.timeRequest = mod_pert_random(0, 45, 120, samples=1).astype(int)  #How long will the group spend\n",
    "        self.groupID=groupID\n",
    "    \n",
    "    def get_groupID(self):\n",
    "        return self.groupID\n",
    "    \n",
    "    def get_stamp(self):\n",
    "        return self.timestamp\n",
    "    \n",
    "    def get_size(self):\n",
    "        return self.size\n",
    "    \n",
    "    \n",
    "    def wait_time(self, current_time):\n",
    "        return current_time - self.timestamp\n",
    "    \n",
    "    def get_vip(self):\n",
    "        return self.vip\n",
    "    \n",
    "    def get_time_request(self): \n",
    "        return self.timeRequest"
   ]
  },
  {
   "cell_type": "code",
   "execution_count": 10,
   "metadata": {},
   "outputs": [],
   "source": [
    "def tablesSetting(number_tables_2, number_tables_4, number_tables_6):\n",
    "    table_2_list = []\n",
    "    table_4_list = []\n",
    "    table_6_list = [] \n",
    "    for i in range(number_tables_2):\n",
    "        table_2_list.append(Table(i,2))\n",
    "    \n",
    "    for i in range(number_tables_4):\n",
    "        table_4_list.append(Table(i+number_tables_2,4))\n",
    "    \n",
    "    for i in range(number_tables_6):\n",
    "        table_6_list.append(Table(i+number_tables_4+number_tables_2,6))\n",
    "    \n",
    "    return (table_2_list, table_4_list, table_6_list)"
   ]
  },
  {
   "cell_type": "code",
   "execution_count": 232,
   "metadata": {},
   "outputs": [
    {
     "name": "stdout",
     "output_type": "stream",
     "text": [
      "[2 3 5 3 2 5 3 4 6 2 4 6 4 4 5 1 6 4 3 6 2 5 6 3 6 2 5 2 2 4]\n[153 159 117 138 197  68 147 136 119 150  61  96  89 185 135 133  53 168\n 174 151 125 112  69 114 130 159 179 181 139  91]\n[7, 6, 5, 4, 2, 3, 1, 0]\n[7, 6, 5, 4, 2, 3, 1, 0]\n[7, 6, 5, 4, 2, 3, 1, 0]\n[7, 6, 5, 4, 2, 3, 1, 0]\n[7, 6, 5, 4, 2, 3, 1, 0]\n[7, 6, 5, 4, 2, 3, 1, 0]\n[7, 6, 5, 4, 2, 3, 1, 0]\n[7, 6, 5, 4, 2, 3, 1, 0]\n[7, 6, 5, 4, 2, 3, 1, 0]\n[7, 6, 5, 4, 2, 3, 1, 0]\n[7, 6, 5, 4, 2, 3, 1, 0]\n[7, 6, 5, 4, 2, 3, 1, 0]\n[7, 6, 5, 4, 2, 3, 1, 0]\n[7, 6, 5, 4, 2, 3, 1, 0]\n[7, 6, 5, 4, 2, 3, 1, 0]\n[7, 6, 5, 4, 2, 3, 1, 0]\n[7, 6, 5, 4, 2, 3, 1, 0]\n[7, 6, 5, 4, 2, 3, 1, 0]\n[7, 6, 5, 4, 2, 3, 1, 0]\n[7, 6, 5, 4, 2, 3, 1, 0]\n[7, 6, 5, 4, 2, 3, 1, 0]\n[7, 6, 5, 4, 2, 3, 1, 0]\n[7, 6, 5, 4, 2, 3, 1, 0]\n[7, 6, 5, 4, 2, 3, 1, 0]\n[7, 6, 5, 4, 2, 3, 1, 0]\n[7, 6, 5, 4, 2, 3, 1, 0]\n[7, 6, 5, 4, 2, 3, 1, 0]\n[7, 6, 5, 4, 2, 3, 1, 0]\n[7, 6, 5, 4, 2, 3, 1, 0]\n[7, 6, 5, 4, 2, 3, 1, 0]\n[7, 6, 5, 4, 2, 3, 1, 0]\n[7, 6, 5, 4, 2, 3, 1, 0]\n[7, 6, 5, 4, 2, 3, 1, 0]\n[7, 6, 5, 4, 2, 3, 1, 0]\n[7, 6, 5, 4, 2, 3, 1, 0]\n[7, 6, 5, 4, 2, 3, 1, 0]\n[7, 6, 5, 4, 2, 3, 1, 0]\n[7, 6, 5, 4, 2, 3, 1, 0]\n[7, 6, 5, 4, 2, 3, 1, 0]\n[7, 6, 5, 4, 2, 3, 1, 0]\n[7, 6, 5, 4, 2, 3, 1, 0]\n[7, 6, 5, 4, 2, 3, 1, 0]\n[7, 6, 5, 4, 2, 3, 1, 0]\n[7, 6, 5, 4, 2, 3, 1, 0]\n[7, 6, 5, 4, 2, 3, 1, 0]\n[7, 6, 5, 4, 2, 3, 1, 0]\n[7, 6, 5, 4, 2, 3, 1, 0]\n[7, 6, 5, 4, 2, 3, 1, 0]\n[7, 6, 5, 4, 2, 3, 1, 0]\n[7, 6, 5, 4, 2, 3, 1, 0]\n[7, 6, 5, 4, 2, 3, 1, 0]\n[7, 6, 5, 4, 2, 3, 1, 0]\n[7, 6, 5, 4, 2, 3, 1, 0]\n[7, 6, 5, 4, 2, 3, 1, 0]\nHead GroupID: 0\nWait time: 0\nGroup No.: 0\nVIP?: False\nRegistration time: 53\nEntering into table time: 53\nTable No. 0\n\n\n[7, 6, 5, 4, 2, 3, 1]\n[7, 6, 5, 4, 2, 3, 1]\n[7, 6, 5, 4, 2, 3, 1]\n[7, 6, 5, 4, 2, 3, 1]\n[7, 6, 5, 4, 2, 3, 1]\n[7, 6, 5, 4, 2, 3, 1]\n[7, 6, 5, 4, 2, 3, 1]\n[7, 6, 5, 4, 2, 3, 1]\n[7, 6, 5, 4, 2, 3, 1]\n[7, 6, 5, 4, 2, 3, 1]\n[7, 6, 5, 4, 2, 3, 1]\n[7, 6, 5, 4, 2, 3, 1]\n[7, 6, 5, 4, 2, 3, 1]\n[7, 6, 5, 4, 2, 3, 1]\n[7, 6, 5, 4, 2, 3, 1]\n[7, 6, 5, 4, 2, 3, 1]\n[7, 6, 5, 4, 2, 3, 1]\n[7, 6, 5, 4, 2, 3, 1]\n[7, 6, 5, 4, 2, 3, 1]\n[7, 6, 5, 4, 2, 3, 1]\n[7, 6, 5, 4, 2, 3, 1]\n[7, 6, 5, 4, 2, 3, 1]\n[7, 6, 5, 4, 2, 3, 1]\n[7, 6, 5, 4, 2, 3, 1]\n[7, 6, 5, 4, 2, 3, 1]\n[7, 6, 5, 4, 2, 3, 1]\n[7, 6, 5, 4, 2, 3, 1]\n[7, 6, 5, 4, 2, 3, 1]\n[7, 6, 5, 4, 2, 3, 1]\n[7, 6, 5, 4, 2, 3, 1]\n[7, 6, 5, 4, 2, 3, 1]\n[7, 6, 5, 4, 2, 3, 1]\n[7, 6, 5, 4, 2, 3, 1]\n[7, 6, 5, 4, 2, 3, 1]\n[7, 6, 5, 4, 2, 3, 1]\n[7, 6, 5, 4, 2, 3, 1]\nHead GroupID: 1\nWait time: 0\nGroup No.: 1\nVIP?: False\nRegistration time: 89\nEntering into table time: 89\nTable No. 1\n\n\n[7, 6, 5, 4, 2, 3]\n[7, 6, 5, 4, 2, 3]\n[7, 6, 5, 4, 2, 3]\n[7, 6, 5, 4, 2, 3]\n[7, 6, 5, 4, 2, 3]\nClean: 0 \n\n[7, 6, 5, 4, 2, 3]\n[7, 6, 5, 4, 2, 3]\n[7, 6, 5, 4, 2, 3]\n[7, 6, 5, 4, 2, 3]\n[7, 6, 5, 4, 2, 3]\n[7, 6, 5, 4, 2, 3]\n[7, 6, 5, 4, 2, 3]\n[7, 6, 5, 4, 2, 3]\n[7, 6, 5, 4, 2, 3]\n[7, 6, 5, 4, 2, 3]\n[7, 6, 5, 4, 2, 3]\n[7, 6, 5, 4, 2, 3]\n[7, 6, 5, 4, 2, 3]\n[7, 6, 5, 4, 2, 3]\n[7, 6, 5, 4, 2, 3]\n[7, 6, 5, 4, 2, 3]\n[7, 6, 5, 4, 2, 3]\n[7, 6, 5, 4, 2, 3]\n[7, 6, 5, 4, 2, 3]\n[7, 6, 5, 4, 2, 3]\n[7, 6, 5, 4, 2, 3]\n[7, 6, 5, 4, 2, 3]\n[7, 6, 5, 4, 2, 3]\n[7, 6, 5, 4, 2, 3]\n[7, 6, 5, 4, 2, 3]\n[7, 6, 5, 4, 2, 3]\n[7, 6, 5, 4, 2, 3]\n[7, 6, 5, 4, 2, 3]\n[7, 6, 5, 4, 2, 3]\n[7, 6, 5, 4, 2, 3]\n[7, 6, 5, 4, 2, 3]\n[7, 6, 5, 4, 2, 3]\n[7, 6, 5, 4, 2, 3]\n[7, 6, 5, 4, 2, 3]\n[7, 6, 5, 4, 2, 3]\n[7, 6, 5, 4, 2, 3]\n[7, 6, 5, 4, 2, 3]\n[7, 6, 5, 4, 2, 3]\n[7, 6, 5, 4, 2, 3]\n[7, 6, 5, 4, 2, 3]\n[7, 6, 5, 4, 2, 3]\n[7, 6, 5, 4, 2, 3]\nHead GroupID: 3\nWait time: 0\nGroup No.: 3\nVIP?: True\nRegistration time: 136\nEntering into table time: 136\nTable No. 0\n\n\nHead GroupID: 2\nWait time: 19\nGroup No.: 2\nVIP?: False\nRegistration time: 117\nEntering into table time: 136\nTable No. 2\n\n\n[7, 6, 5, 4]\n[7, 6, 5, 4]\n[7, 6, 5, 4]\n[7, 6, 5, 4]\n[7, 6, 5, 4]\n[7, 6, 5, 4]\n[7, 6, 5, 4]\n[7, 6, 5, 4]\n[7, 6, 5, 4]\n[7, 6, 5, 4]\n[7, 6, 5, 4]\n[7, 6, 5, 4]\n[7, 6, 5, 4]\n[7, 6, 5, 4]\n[7, 6, 5, 4]\nHead GroupID: 4\nWait time: 0\nGroup No.: 4\nVIP?: False\nRegistration time: 151\nEntering into table time: 151\nTable No. 3\n\n\n[7, 6, 5]\n[7, 6, 5]\n[7, 6, 5]\n[7, 6, 5]\n[7, 6, 5]\n[7, 6, 5]\n[7, 6, 5]\n[7, 6, 5]\n[7, 6, 5]\n[7, 6, 5]\nClean: 1 \n\n[7, 6, 5]\n[7, 6, 5]\n[7, 6, 5]\n[7, 6, 5]\n[7, 6, 5]\n[7, 6, 5]\n[7, 6, 5]\n[7, 6, 5]\n[7, 6, 5]\n[7, 6, 5]\n[7, 6, 5]\n[7, 6, 5]\n[7, 6, 5]\n[7, 6, 5]\n[7, 6, 5]\n[7, 6, 5]\n[7, 6, 5]\n[7, 6, 5]\nHead GroupID: 5\nWait time: 0\nGroup No.: 5\nVIP?: False\nRegistration time: 179\nEntering into table time: 179\nTable No. 1\n\n\n[7, 6]\n[7, 6]\n[7, 6]\n[7, 6]\n[7, 6]\n[7, 6]\nHead GroupID: 6\nWait time: 0\nGroup No.: 6\nVIP?: False\nRegistration time: 185\nEntering into table time: 185\nTable No. 4\n\n\n[7]\n[7]\n[7]\n[7]\n[7]\n[7]\n[7]\n[7]\n[7]\nClean: 0 \n\nClean: 2 \n\n[7]\n[7]\n[7]\nHead GroupID: 7\nWait time: 0\nGroup No.: 7\nVIP?: False\nRegistration time: 197\nEntering into table time: 197\nTable No. 0\n\n\n"
     ]
    },
    {
     "ename": "IndexError",
     "evalue": "list index out of range",
     "traceback": [
      "\u001b[0;31m---------------------------------------------------------------------------\u001b[0m",
      "\u001b[0;31mIndexError\u001b[0m                                Traceback (most recent call last)",
      "\u001b[0;32m<ipython-input-232-2fc185efb4cc>\u001b[0m in \u001b[0;36m<module>\u001b[0;34m()\u001b[0m\n\u001b[0;32m----> 1\u001b[0;31m \u001b[0moutput\u001b[0m\u001b[0;34m=\u001b[0m\u001b[0mgeneration\u001b[0m\u001b[0;34m(\u001b[0m\u001b[0;36m240\u001b[0m\u001b[0;34m)\u001b[0m\u001b[0;34m\u001b[0m\u001b[0m\n\u001b[0m",
      "\u001b[0;32m<ipython-input-231-9a4c428b7bf9>\u001b[0m in \u001b[0;36mgeneration\u001b[0;34m(Duration)\u001b[0m\n\u001b[1;32m     64\u001b[0m             \u001b[0;32mif\u001b[0m \u001b[0;34m(\u001b[0m\u001b[0mi\u001b[0m \u001b[0;34m>=\u001b[0m \u001b[0;34m(\u001b[0m\u001b[0mqueue_2\u001b[0m\u001b[0;34m.\u001b[0m\u001b[0mgroups\u001b[0m\u001b[0;34m[\u001b[0m\u001b[0mlen\u001b[0m\u001b[0;34m(\u001b[0m\u001b[0mqueue_2\u001b[0m\u001b[0;34m.\u001b[0m\u001b[0mgroups\u001b[0m\u001b[0;34m)\u001b[0m\u001b[0;34m-\u001b[0m\u001b[0;36m1\u001b[0m\u001b[0;34m]\u001b[0m\u001b[0;34m.\u001b[0m\u001b[0mget_stamp\u001b[0m\u001b[0;34m(\u001b[0m\u001b[0;34m)\u001b[0m\u001b[0;34m)\u001b[0m\u001b[0;34m)\u001b[0m\u001b[0;34m:\u001b[0m\u001b[0;34m\u001b[0m\u001b[0m\n\u001b[1;32m     65\u001b[0m                 \u001b[0;32mfor\u001b[0m \u001b[0mt\u001b[0m \u001b[0;32min\u001b[0m \u001b[0mtable_2\u001b[0m\u001b[0;34m:\u001b[0m\u001b[0;34m\u001b[0m\u001b[0m\n\u001b[0;32m---> 66\u001b[0;31m                     \u001b[0;32mif\u001b[0m \u001b[0;34m(\u001b[0m\u001b[0;32mnot\u001b[0m \u001b[0mt\u001b[0m\u001b[0;34m.\u001b[0m\u001b[0mbusy\u001b[0m\u001b[0;34m(\u001b[0m\u001b[0;34m)\u001b[0m\u001b[0;34m)\u001b[0m \u001b[0;32mand\u001b[0m \u001b[0;34m(\u001b[0m\u001b[0mi\u001b[0m\u001b[0;34m>=\u001b[0m\u001b[0;34m(\u001b[0m\u001b[0mqueue_2\u001b[0m\u001b[0;34m.\u001b[0m\u001b[0mgroups\u001b[0m\u001b[0;34m[\u001b[0m\u001b[0mlen\u001b[0m\u001b[0;34m(\u001b[0m\u001b[0mqueue_2\u001b[0m\u001b[0;34m.\u001b[0m\u001b[0mgroups\u001b[0m\u001b[0;34m)\u001b[0m\u001b[0;34m-\u001b[0m\u001b[0;36m1\u001b[0m\u001b[0;34m]\u001b[0m\u001b[0;34m.\u001b[0m\u001b[0mget_stamp\u001b[0m\u001b[0;34m(\u001b[0m\u001b[0;34m)\u001b[0m\u001b[0;34m)\u001b[0m\u001b[0;34m)\u001b[0m\u001b[0;34m:\u001b[0m\u001b[0;34m\u001b[0m\u001b[0m\n\u001b[0m\u001b[1;32m     67\u001b[0m                         \u001b[0mprint\u001b[0m\u001b[0;34m(\u001b[0m\u001b[0;34m'Head GroupID:'\u001b[0m\u001b[0;34m,\u001b[0m\u001b[0mqueue_2\u001b[0m\u001b[0;34m.\u001b[0m\u001b[0mgroups\u001b[0m\u001b[0;34m[\u001b[0m\u001b[0mlen\u001b[0m\u001b[0;34m(\u001b[0m\u001b[0mqueue_2\u001b[0m\u001b[0;34m.\u001b[0m\u001b[0mgroups\u001b[0m\u001b[0;34m)\u001b[0m\u001b[0;34m-\u001b[0m\u001b[0;36m1\u001b[0m\u001b[0;34m]\u001b[0m\u001b[0;34m.\u001b[0m\u001b[0mget_groupID\u001b[0m\u001b[0;34m(\u001b[0m\u001b[0;34m)\u001b[0m\u001b[0;34m)\u001b[0m\u001b[0;34m\u001b[0m\u001b[0m\n\u001b[1;32m     68\u001b[0m                         \u001b[0mnextGroup\u001b[0m \u001b[0;34m=\u001b[0m \u001b[0mqueue_2\u001b[0m\u001b[0;34m.\u001b[0m\u001b[0mdel_queue\u001b[0m\u001b[0;34m(\u001b[0m\u001b[0;34m)\u001b[0m\u001b[0;34m\u001b[0m\u001b[0m\n",
      "\u001b[0;31mIndexError\u001b[0m: list index out of range"
     ],
     "output_type": "error"
    }
   ],
   "source": [
    "output=generation(240)"
   ]
  },
  {
   "cell_type": "code",
   "execution_count": 90,
   "metadata": {},
   "outputs": [
    {
     "data": {
      "text/plain": [
       "[]"
      ]
     },
     "execution_count": 90,
     "metadata": {},
     "output_type": "execute_result"
    }
   ],
   "source": [
    "output[0].groups"
   ]
  },
  {
   "cell_type": "code",
   "execution_count": 231,
   "metadata": {},
   "outputs": [],
   "source": [
    "def generation(Duration):\n",
    "    # Generate size \n",
    "    size = np.random.randint(1,7,30)\n",
    "    print(size)\n",
    "    \n",
    "    vip = []\n",
    "    for i in range(len(size)):\n",
    "        num = np.random.randint(0, 101, 1)\n",
    "        if (num >= 0) & (num <= 8):\n",
    "            vip.append(True)\n",
    "        else:\n",
    "            vip.append(False)\n",
    "    timestamp_list = mod_pert_random(0, 120, 240).astype(int)\n",
    "    \n",
    "    print(timestamp_list)\n",
    "    \n",
    "    counter = 0\n",
    "    queue_2 = Queue()\n",
    "    queue_4 = Queue()\n",
    "    queue_6 = Queue()\n",
    "    \n",
    "    \n",
    "    table_2,table_4,table_6=tablesSetting(6,4,2)\n",
    "    \n",
    "    total_timeR = [0]\n",
    "    nextGroup_endTime_2={}\n",
    "    \n",
    "    # Add every group into corresponding queue\n",
    "    groupNumb_2=0\n",
    "    groupNumb_4=0\n",
    "    groupNumb_6=0\n",
    "    \n",
    "    for i in range(Duration):\n",
    "        if i in timestamp_list:\n",
    "            if size[counter] == 1 or size[counter] == 2:\n",
    "                queue_2.add_queue(Group(i, 2, vip[counter], groupNumb_2))\n",
    "                counter += 1\n",
    "                groupNumb_2+=1\n",
    "            elif size[counter] == 3 or size[counter] == 4:\n",
    "                queue_4.add_queue(Group(i, 4, vip[counter], groupNumb_4))\n",
    "                counter += 1\n",
    "                groupNumb_4+=1\n",
    "            elif size[counter] == 5 or size[counter] == 6:\n",
    "                queue_6.add_queue(Group(i, 6, vip[counter], groupNumb_6))\n",
    "                counter += 1\n",
    "                groupNumb_6 += 1\n",
    "                \n",
    "                \n",
    "        \n",
    "    for i in range(Duration):   \n",
    "        if i in nextGroup_endTime_2.values():\n",
    "            for num in nextGroup_endTime_2.keys():\n",
    "                if i == nextGroup_endTime_2[num]:\n",
    "                    print('Clean:', num.num,'\\n')\n",
    "                    table_2[num.num].currentGroup = None\n",
    "            #if at least one of tables2 finish servicing, set currentGroup to None (this table is not busy)\n",
    "            \n",
    "        \n",
    "        if (len(queue_2.groups)>0):\n",
    "            current_q=[]\n",
    "            for item in queue_2.groups:\n",
    "                current_q.append(item.get_groupID())\n",
    "            print(current_q)\n",
    "            if (i >= (queue_2.groups[len(queue_2.groups)-1].get_stamp())):\n",
    "                for t in table_2:\n",
    "                    if (not t.busy()) and (i>=(queue_2.groups[len(queue_2.groups)-1].get_stamp())):\n",
    "                        print('Head GroupID:',queue_2.groups[len(queue_2.groups)-1].get_groupID())\n",
    "                        nextGroup = queue_2.del_queue()\n",
    "                     \n",
    "                        print('Wait time:', nextGroup.wait_time(i))\n",
    "                     \n",
    "                     \n",
    "                     \n",
    "                        t.startNext(nextGroup)\n",
    "                        print('Group No.:', nextGroup.get_groupID())\n",
    "                        print('VIP?:', nextGroup.get_vip())\n",
    "                        print('Registration time:', nextGroup.get_stamp())\n",
    "                        print('Entering into table time:',i)\n",
    "                         \n",
    "                         \n",
    "                         \n",
    "                        nextGroup.table=t.num\n",
    "                        print('Table No.', t.num)\n",
    "                         \n",
    "                        nextGroup_endTime_2[t] = i+nextGroup.timeRequest+2  #2min for table cleaning, rearragement and the time to walk in blabla\n",
    "                        print('\\n')\n",
    "                        total_timeR.append(nextGroup.timeRequest+2)\n",
    "        \n",
    "    avg_timeR = sum(total_timeR)/len(total_timeR)\n",
    "        \n",
    "    return (queue_2, queue_4, queue_6)"
   ]
  },
  {
   "cell_type": "code",
   "execution_count": null,
   "metadata": {},
   "outputs": [],
   "source": []
  }
 ],
 "metadata": {
  "kernelspec": {
   "display_name": "anaconda3py3",
   "language": "python",
   "name": "anaconda3py3"
  },
  "language_info": {
   "codemirror_mode": {
    "name": "ipython",
    "version": 3
   },
   "file_extension": ".py",
   "mimetype": "text/x-python",
   "name": "python",
   "nbconvert_exporter": "python",
   "pygments_lexer": "ipython3",
   "version": "3.6.2"
  }
 },
 "nbformat": 4,
 "nbformat_minor": 0
}
