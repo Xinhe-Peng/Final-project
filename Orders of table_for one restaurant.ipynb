{
 "cells": [
  {
   "cell_type": "code",
   "execution_count": 1,
   "metadata": {
    "collapsed": true
   },
   "outputs": [
    {
     "ename": "ImportError",
     "evalue": "No module named 'pythonds'",
     "traceback": [
      "\u001b[0;31m---------------------------------------------------------------------------\u001b[0m",
      "\u001b[0;31mImportError\u001b[0m                               Traceback (most recent call last)",
      "\u001b[0;32m<ipython-input-1-54f012edc6ba>\u001b[0m in \u001b[0;36m<module>\u001b[0;34m()\u001b[0m\n\u001b[0;32m----> 1\u001b[0;31m \u001b[1;32mfrom\u001b[0m \u001b[0mpythonds\u001b[0m\u001b[1;33m.\u001b[0m\u001b[0mbasic\u001b[0m \u001b[1;32mimport\u001b[0m \u001b[0mQueue\u001b[0m\u001b[1;33m\u001b[0m\u001b[0m\n\u001b[0m",
      "\u001b[0;31mImportError\u001b[0m: No module named 'pythonds'"
     ],
     "output_type": "error"
    }
   ],
   "source": [
    "from pythonds.basic import Queue"
   ]
  },
  {
   "cell_type": "code",
   "execution_count": null,
   "metadata": {
    "collapsed": true
   },
   "outputs": [
    {
     "ename": "ImportError",
     "evalue": "No module named 'pythonds'",
     "traceback": [
      "\u001b[0;31m---------------------------------------------------------------------------\u001b[0m",
      "\u001b[0;31mImportError\u001b[0m                               Traceback (most recent call last)",
      "\u001b[0;32m<ipython-input-1-54f012edc6ba>\u001b[0m in \u001b[0;36m<module>\u001b[0;34m()\u001b[0m\n\u001b[0;32m----> 1\u001b[0;31m \u001b[1;32mfrom\u001b[0m \u001b[0mpythonds\u001b[0m\u001b[1;33m.\u001b[0m\u001b[0mbasic\u001b[0m \u001b[1;32mimport\u001b[0m \u001b[0mQueue\u001b[0m\u001b[1;33m\u001b[0m\u001b[0m\n\u001b[0m",
      "\u001b[0;31mImportError\u001b[0m: No module named 'pythonds'"
     ],
     "output_type": "error"
    }
   ],
   "source": [
    "#Some functions under this class may be unnecessary since package Queue \n",
    "# has those functions already according to the reading\n",
    "class Queue:\n",
    "    def __init__(self):\n",
    "    \n",
    "    def queue_size():\n",
    "    \n",
    "    def isEmpty():\n",
    "    \n",
    "    def add_queue():\n",
    "    \n",
    "    def del_queue():  #delete last=delete first come group \n",
    "        \n",
    "    def postpone(): #postpone 3 requests\n",
    "    \n",
    "    def cancel():  #delete certain one=cancel certain order"
   ]
  },
  {
   "cell_type": "code",
   "execution_count": null,
   "metadata": {
    "collapsed": true
   },
   "outputs": [],
   "source": [
    "# this class can be regarded as \"class printer\" in that case.\n",
    "class Tables:\n",
    "    def __init__(self, size):\n",
    "        self.size = size\n",
    "        self.currentStatus = None\n",
    "        self.time_remaining = 0\n",
    "        \n",
    "    def busy(self):\n",
    "        for i in range(self):\n",
    "            if self.currentStatus != None:\n",
    "            return True\n",
    "        else:\n",
    "            return False\n",
    "    \n",
    "    def tick(self):\n",
    "        if self.currentStatus != None:\n",
    "            self.time_remaining = self.time_remaining - 1\n",
    "            if self.time_remaining <= 0:\n",
    "                self.currentStatus = None\n",
    "    \n",
    "    def startNext(self, newtask):\n",
    "        self.currentStatus = newtask\n",
    "        self.time_remaining = newtask.time_needs() # here maybe generate a random time from 10 - 60 mins using generator\n",
    "        \n",
    "        "
   ]
  },
  {
   "cell_type": "code",
   "execution_count": null,
   "metadata": {},
   "outputs": [],
   "source": [
    "# this class can be regarded as Task in that case\n",
    "import random\n",
    "\n",
    "\n",
    "class Customers:\n",
    "    def __init__(self, time):\n",
    "        self.timestamp = time\n",
    "        self.size = random.range(1, 7) #randomly define size from 1 - 6\n",
    "    \n",
    "    def get_stamp(self):\n",
    "        return self.timestamp\n",
    "    \n",
    "    def get_size(self):\n",
    "        return self.size\n",
    "    \n",
    "    def wait_time(self, current_time):\n",
    "        return current_time - self.timestamp"
   ]
  },
  {
   "cell_type": "code",
   "execution_count": null,
   "metadata": {},
   "outputs": [],
   "source": [
    "def newCustomer():\n",
    "    num = random.randrange(1, 61)\n",
    "    if num == 60:\n",
    "        return True\n",
    "    else:\n",
    "        return False\n",
    "\n",
    "\n",
    "def simulation(number_tables_2, number_tables_4, number_tables_6, num_minutes):\n",
    "    for i in range(number_tables_2):\n",
    "        table_2_list.append(Tables(2))\n",
    "    \n",
    "    for i in range(number_tables_4):\n",
    "        table_4_list.append(Tables(4))\n",
    "    \n",
    "    for i in range(number_tables_6):\n",
    "        table_6_list.append(Tables(6))\n",
    "        \n",
    "    customer_queue = Queue()\n",
    "    waiting_time = []\n",
    "        \n",
    "    for currentMinute in range(num_minutes):\n",
    "        \n",
    "        if newCustomer():\n",
    "            customer = Customers(currentMinute)\n",
    "            customer_queue.enqueue(customer)\n",
    "            \n",
    "        if Customers.size == 1 or Customers.size == 2:\n",
    "            for i in range(number_tables_2):\n",
    "                if (not number_tables_2[i].busy()) and (not customer_queue.isEmpty()):\n",
    "                    nexttask = customer_queue.dequeue()\n",
    "                    waiting_time.append(nexttask.wait_time(currentMinute))\n",
    "                    number_tables_2[i].startNext(nexttask)\n",
    "                    break\n",
    "            number_tables_2[i].tick\n",
    "\n",
    "        elif Customers.size == 3 or Customers.size == 4:\n",
    "            if (not number_tables_4[i].busy()) and (not customer_queue.isEmpty()):\n",
    "                    nexttask = customer_queue.dequeue()\n",
    "                    waiting_time.append(nexttask.wait_time(currentMinute))\n",
    "                    number_tables_4[i].startNext(nexttask)\n",
    "                    break\n",
    "            number_tables_4[i].tick\n",
    "            \n",
    "        else:\n",
    "            if (not number_tables_6[i].busy()) and (not customer_queue.isEmpty()):\n",
    "                    nexttask = customer_queue.dequeue()\n",
    "                    waiting_time.append(nexttask.wait_time(currentMinute))\n",
    "                    number_tables_6[i].startNext(nexttask)\n",
    "                    break\n",
    "            number_tables_6[i].tick\n",
    "    \n",
    "        averageWait = sum(waiting_time)/len(waiting_time)\n",
    "        print('Average wait',averageWait,' minutes for party of ', Customers.size, ',and',\n",
    "        customer_queue.size(), 'customers remaining.')"
   ]
  }
 ],
 "metadata": {
  "kernelspec": {
   "display_name": "anaconda3py3",
   "language": "python",
   "name": "anaconda3py3"
  },
  "language_info": {
   "codemirror_mode": {
    "name": "ipython",
    "version": 3.0
   },
   "file_extension": ".py",
   "mimetype": "text/x-python",
   "name": "python",
   "nbconvert_exporter": "python",
   "pygments_lexer": "ipython3",
   "version": "3.6.2"
  }
 },
 "nbformat": 4,
 "nbformat_minor": 0
}