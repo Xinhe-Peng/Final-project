{
 "cells": [
  {
   "cell_type": "code",
   "execution_count": 3,
   "metadata": {},
   "outputs": [],
   "source": [
    "import numpy as np"
   ]
  },
  {
   "cell_type": "code",
   "execution_count": 6,
   "metadata": {},
   "outputs": [],
   "source": [
    "def mod_pert_random(low, likely, high, confidence=4, samples=30):\n",
    "    \"\"\"Produce random numbers according to the 'Modified PERT' \n",
    "    distribution. \n",
    "    \n",
    "    :param low: The lowest value expected as possible.\n",
    "    \n",
    "    :param likely: The 'most likely' value, statistically, the mode.\n",
    "    :param high: The highest value expected as possible.\n",
    "    :param confidence: This is typically called 'lambda' in literature \n",
    "                        about the Modified PERT distribution. The value\n",
    "                        4 here matches the standard PERT curve. Higher\n",
    "                        values indicate higher confidence in the mode.\n",
    "                        \n",
    "    Formulas from \"Modified Pert Simulation\" by Paulo Buchsbaum.\n",
    "    \"\"\"\n",
    "    # Check minimum & maximum confidence levels to allow:\n",
    "    confidence = min(8, confidence)\n",
    "    confidence = max(2, confidence)\n",
    "\n",
    "    mean = (low + confidence * likely + high)/(confidence + 2)\n",
    "\n",
    "    a = (mean - low)/(high - low) * (confidence + 2)\n",
    "    b = ((confidence + 1) * high - low - confidence * likely) / (high - low)\n",
    "    \n",
    "    beta = np.random.beta(a, b, samples)\n",
    "    beta = beta * (high - low) + low\n",
    "    return beta"
   ]
  },
  {
   "cell_type": "code",
   "execution_count": 7,
   "metadata": {
    "collapsed": false
   },
   "outputs": [],
   "source": [
    "class Queue:\n",
    "    def __init__(self):\n",
    "        self.groups=[]\n",
    "    \n",
    "    def queue_size(self):\n",
    "        return len(self.groups)\n",
    "    \n",
    "    def isEmpty(self):\n",
    "        if len(self.groups)> 0:\n",
    "            return False\n",
    "        else:\n",
    "            \n",
    "            return True\n",
    "    \n",
    "    def add_queue(self, group):\n",
    "        if group.get_vip():   # If current group is a VIP group, move it forward by four groups,\n",
    "            if len(self.groups) > 4:\n",
    "                for i in range(0,4):\n",
    "                    if self.groups[i].get_vip():\n",
    "                        self.groups.insert(i,group)\n",
    "                        break\n",
    "                    else:\n",
    "                        self.groups.insert(4,group)\n",
    "            elif len(self.groups) > 1 and len(self.groups) < 4:\n",
    "                for i in range(0,len(self.groups)):\n",
    "                    if self.groups[i].get_vip():\n",
    "                        self.groups.insert(i,group)\n",
    "                        break\n",
    "                    else:\n",
    "                        self.groups.insert(1,group)\n",
    "        else:\n",
    "            self.groups.insert(0,group)\n",
    "            \n",
    "    \n",
    "    def del_queue(self): #delete last=delete first come group \n",
    "        return self.groups.pop()  "
   ]
  },
  {
   "cell_type": "code",
   "execution_count": 8,
   "metadata": {
    "collapsed": true
   },
   "outputs": [],
   "source": [
    "# this class can be regarded as \"class printer\" in that case.\n",
    "class Table:\n",
    "    def __init__(self, num, size):\n",
    "        self.num= num # No. of the table\n",
    "        self.size = size # Size of the table: for group of up to 2, 4 or 6.\n",
    "        \n",
    "        self.currentGroup = None # Is the table occupied or not.\n",
    "        \n",
    "    def busy(self):\n",
    "        if self.currentGroup != None:\n",
    "            return True\n",
    "        else:\n",
    "            return False      \n",
    "    \n",
    "    def startNext(self, newGroup):\n",
    "        self.currentGroup = newGroup"
   ]
  },
  {
   "cell_type": "code",
   "execution_count": 130,
   "metadata": {},
   "outputs": [],
   "source": [
    "class Group:\n",
    "    def __init__(self, time, size, vip, groupID):\n",
    "        self.timestamp = time # Time when group registered (entered into the queue)\n",
    "        self.size = size #randomly define size from 1 - 6\n",
    "        self.vip = vip # Whether the group is a vip group\n",
    "        self.table= None # Which table the group will be assigned to\n",
    "        self.timeRequest = mod_pert_random(0, 45, 120, samples=1).astype(int)  #How long will the group spend\n",
    "        self.groupID=groupID\n",
    "    \n",
    "    def get_groupID(self):\n",
    "        return self.groupID\n",
    "    \n",
    "    def get_stamp(self):\n",
    "        return self.timestamp\n",
    "    \n",
    "    def get_size(self):\n",
    "        return self.size\n",
    "    \n",
    "    \n",
    "    def wait_time(self, current_time):\n",
    "        return current_time - self.timestamp\n",
    "    \n",
    "    def get_vip(self):\n",
    "        return self.vip\n",
    "    \n",
    "    def get_time_request(self): \n",
    "        return self.timeRequest"
   ]
  },
  {
   "cell_type": "code",
   "execution_count": 10,
   "metadata": {},
   "outputs": [],
   "source": [
    "def tablesSetting(number_tables_2, number_tables_4, number_tables_6):\n",
    "    table_2_list = []\n",
    "    table_4_list = []\n",
    "    table_6_list = [] \n",
    "    for i in range(number_tables_2):\n",
    "        table_2_list.append(Table(i,2))\n",
    "    \n",
    "    for i in range(number_tables_4):\n",
    "        table_4_list.append(Table(i+number_tables_2,4))\n",
    "    \n",
    "    for i in range(number_tables_6):\n",
    "        table_6_list.append(Table(i+number_tables_4+number_tables_2,6))\n",
    "    \n",
    "    return (table_2_list, table_4_list, table_6_list)"
   ]
  },
  {
   "cell_type": "code",
   "execution_count": 145,
   "metadata": {},
   "outputs": [
    {
     "name": "stdout",
     "output_type": "stream",
     "text": [
      "[1 6 3 4 3 2 2 4 2 2 3 2 1 4 6 5 2 6 2 1 3 4 2 2 4 1 1 4 6 1]\nWait time: 0\nGroup No.: 0\nTable No. 0\nnextGroup_endTime: {<__main__.Table object at 0x1144f5908>: array([103])}\n\n\nWait time: 35\nGroup No.: 1\nTable No. 1\nnextGroup_endTime: {<__main__.Table object at 0x1144f5908>: array([103]), <__main__.Table object at 0x1144f5630>: array([141])}\n\n\nWait time: 19\nGroup No.: 2\nTable No. 2\nnextGroup_endTime: {<__main__.Table object at 0x1144f5908>: array([103]), <__main__.Table object at 0x1144f5630>: array([141]), <__main__.Table object at 0x1144f5400>: array([174])}\n\n\nWait time: 2\nGroup No.: 3\nTable No. 3\nnextGroup_endTime: {<__main__.Table object at 0x1144f5908>: array([103]), <__main__.Table object at 0x1144f5630>: array([141]), <__main__.Table object at 0x1144f5400>: array([174]), <__main__.Table object at 0x1144f5128>: array([146])}\n\n\nWait time: 5\nGroup No.: 4\nTable No. 4\nnextGroup_endTime: {<__main__.Table object at 0x1144f5908>: array([103]), <__main__.Table object at 0x1144f5630>: array([141]), <__main__.Table object at 0x1144f5400>: array([174]), <__main__.Table object at 0x1144f5128>: array([146]), <__main__.Table object at 0x1144f5f28>: array([118])}\n\n\nWait time: 3\nGroup No.: 5\nTable No. 5\nnextGroup_endTime: {<__main__.Table object at 0x1144f5908>: array([103]), <__main__.Table object at 0x1144f5630>: array([141]), <__main__.Table object at 0x1144f5400>: array([174]), <__main__.Table object at 0x1144f5128>: array([146]), <__main__.Table object at 0x1144f5f28>: array([118]), <__main__.Table object at 0x1144f5a20>: array([146])}\n\n\nClean: 0 \n\nWait time: 10\nGroup No.: 6\nTable No. 0\nnextGroup_endTime: {<__main__.Table object at 0x1144f5908>: array([157]), <__main__.Table object at 0x1144f5630>: array([141]), <__main__.Table object at 0x1144f5400>: array([174]), <__main__.Table object at 0x1144f5128>: array([146]), <__main__.Table object at 0x1144f5f28>: array([118]), <__main__.Table object at 0x1144f5a20>: array([146])}\n\n\nClean: 4 \n\nWait time: 23\nGroup No.: 7\nTable No. 4\nnextGroup_endTime: {<__main__.Table object at 0x1144f5908>: array([157]), <__main__.Table object at 0x1144f5630>: array([141]), <__main__.Table object at 0x1144f5400>: array([174]), <__main__.Table object at 0x1144f5128>: array([146]), <__main__.Table object at 0x1144f5f28>: array([152]), <__main__.Table object at 0x1144f5a20>: array([146])}\n\n\nClean: 1 \n\nWait time: 30\nGroup No.: 8\nTable No. 1\nnextGroup_endTime: {<__main__.Table object at 0x1144f5908>: array([157]), <__main__.Table object at 0x1144f5630>: array([188]), <__main__.Table object at 0x1144f5400>: array([174]), <__main__.Table object at 0x1144f5128>: array([146]), <__main__.Table object at 0x1144f5f28>: array([152]), <__main__.Table object at 0x1144f5a20>: array([146])}\n\n\nClean: 3 \n\nClean: 5 \n\nWait time: 19\nGroup No.: 9\nTable No. 3\nnextGroup_endTime: {<__main__.Table object at 0x1144f5908>: array([157]), <__main__.Table object at 0x1144f5630>: array([188]), <__main__.Table object at 0x1144f5400>: array([174]), <__main__.Table object at 0x1144f5128>: array([208]), <__main__.Table object at 0x1144f5f28>: array([152]), <__main__.Table object at 0x1144f5a20>: array([146])}\n\n\nClean: 4 \n\nWait time: 13\nGroup No.: 10\nTable No. 4\nnextGroup_endTime: {<__main__.Table object at 0x1144f5908>: array([157]), <__main__.Table object at 0x1144f5630>: array([188]), <__main__.Table object at 0x1144f5400>: array([174]), <__main__.Table object at 0x1144f5128>: array([208]), <__main__.Table object at 0x1144f5f28>: array([208]), <__main__.Table object at 0x1144f5a20>: array([146])}\n\n\nClean: 0 \n\nWait time: 1\nGroup No.: 11\nTable No. 0\nnextGroup_endTime: {<__main__.Table object at 0x1144f5908>: array([214]), <__main__.Table object at 0x1144f5630>: array([188]), <__main__.Table object at 0x1144f5400>: array([174]), <__main__.Table object at 0x1144f5128>: array([208]), <__main__.Table object at 0x1144f5f28>: array([208]), <__main__.Table object at 0x1144f5a20>: array([146])}\n\n\nWait time: 13\nGroup No.: 12\nTable No. 5\nnextGroup_endTime: {<__main__.Table object at 0x1144f5908>: array([214]), <__main__.Table object at 0x1144f5630>: array([188]), <__main__.Table object at 0x1144f5400>: array([174]), <__main__.Table object at 0x1144f5128>: array([208]), <__main__.Table object at 0x1144f5f28>: array([208]), <__main__.Table object at 0x1144f5a20>: array([219])}\n\n\nClean: 2 \n\nWait time: 5\nGroup No.: 13\nTable No. 2\nnextGroup_endTime: {<__main__.Table object at 0x1144f5908>: array([214]), <__main__.Table object at 0x1144f5630>: array([188]), <__main__.Table object at 0x1144f5400>: array([236]), <__main__.Table object at 0x1144f5128>: array([208]), <__main__.Table object at 0x1144f5f28>: array([208]), <__main__.Table object at 0x1144f5a20>: array([219])}\n\n\nClean: 1 \n\nClean: 3 \n\nClean: 4 \n\nClean: 0 \n\nClean: 5 \n\nClean: 2 \n\n"
     ]
    }
   ],
   "source": [
    "output=generation(240)"
   ]
  },
  {
   "cell_type": "code",
   "execution_count": 90,
   "metadata": {},
   "outputs": [
    {
     "data": {
      "text/plain": [
       "[]"
      ]
     },
     "execution_count": 90,
     "metadata": {},
     "output_type": "execute_result"
    }
   ],
   "source": [
    "output[0].groups"
   ]
  },
  {
   "cell_type": "code",
   "execution_count": 144,
   "metadata": {},
   "outputs": [],
   "source": [
    "def generation(Duration):\n",
    "    # Generate size \n",
    "    size = np.random.randint(1,7,30)\n",
    "    print(size)\n",
    "    \n",
    "    vip = []\n",
    "    for i in range(len(size)):\n",
    "        num = np.random.randint(0, 101, 1)\n",
    "        if (num >= 0) & (num <= 8):\n",
    "            vip.append(True)\n",
    "        else:\n",
    "            vip.append(False)\n",
    "    timestamp_list = mod_pert_random(0, 120, 240).astype(int)\n",
    "    counter = 0\n",
    "    queue_2 = Queue()\n",
    "    queue_4 = Queue()\n",
    "    queue_6 = Queue()\n",
    "    \n",
    "    \n",
    "    table_2,table_4,table_6=tablesSetting(6,4,2)\n",
    "    \n",
    "    total_timeR = [0]\n",
    "    nextGroup_endTime_2={}\n",
    "    \n",
    "    # Add every group into corresponding queue\n",
    "    groupNumb_2=0\n",
    "    groupNumb_4=0\n",
    "    groupNumb_6=0\n",
    "    \n",
    "    for i in range(Duration):\n",
    "        if i in timestamp_list:\n",
    "            if size[counter] == 1 or size[counter] == 2:\n",
    "                queue_2.add_queue(Group(i, 2, vip[counter], groupNumb_2))\n",
    "                counter += 1\n",
    "                groupNumb_2+=1\n",
    "            elif size[counter] == 3 or size[counter] == 4:\n",
    "                queue_4.add_queue(Group(i, 4, vip[counter], groupNumb_4))\n",
    "                counter += 1\n",
    "                groupNumb_4+=1\n",
    "            elif size[counter] == 5 or size[counter] == 6:\n",
    "                queue_6.add_queue(Group(i, 6, vip[counter], groupNumb_6))\n",
    "                counter += 1\n",
    "                groupNumb_6 += 1\n",
    "                \n",
    "                \n",
    "        \n",
    "        \n",
    "        if i in nextGroup_endTime_2.values():\n",
    "            for num in nextGroup_endTime_2.keys():\n",
    "                if i == nextGroup_endTime_2[num]:\n",
    "                    print('Clean:', num.num,'\\n')\n",
    "                    table_2[num.num].currentGroup = None\n",
    "            #if at least one of tables2 finish servicing, set currentGroup to None (this table is not busy)\n",
    "            \n",
    "        \n",
    "        \n",
    "\n",
    "        for t in table_2:\n",
    "             if (not t.busy()) and (not queue_2.isEmpty()):\n",
    "                 if 'nextGroup' in locals():\n",
    "                     print('Wait time:', nextGroup.wait_time(i))\n",
    "                 else:\n",
    "                     print('Wait time:',0)\n",
    "                 \n",
    "                 nextGroup = queue_2.del_queue()\n",
    "                 \n",
    "                 t.startNext(nextGroup)\n",
    "                 print('Group No.:', nextGroup.get_groupID())\n",
    "                 \n",
    "                 \n",
    "                 \n",
    "                 nextGroup.table=t.num\n",
    "                 print('Table No.', t.num)\n",
    "                 \n",
    "                 nextGroup_endTime_2[t] = i+nextGroup.timeRequest+2  #2min for table cleaning, rearragement and the time to walk in blabla\n",
    "                 print('nextGroup_endTime:',nextGroup_endTime_2)\n",
    "                 print('\\n')\n",
    "                 total_timeR.append(nextGroup.timeRequest+2)\n",
    "        \n",
    "    avg_timeR = sum(total_timeR)/len(total_timeR)\n",
    "        \n",
    "    return (queue_2, queue_4, queue_6)"
   ]
  },
  {
   "cell_type": "code",
   "execution_count": null,
   "metadata": {},
   "outputs": [],
   "source": []
  }
 ],
 "metadata": {
  "kernelspec": {
   "display_name": "anaconda3py3",
   "language": "python",
   "name": "anaconda3py3"
  },
  "language_info": {
   "codemirror_mode": {
    "name": "ipython",
    "version": 3
   },
   "file_extension": ".py",
   "mimetype": "text/x-python",
   "name": "python",
   "nbconvert_exporter": "python",
   "pygments_lexer": "ipython3",
   "version": "3.6.2"
  }
 },
 "nbformat": 4,
 "nbformat_minor": 0
}
