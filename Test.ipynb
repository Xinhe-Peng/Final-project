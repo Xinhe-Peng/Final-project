{
 "cells": [
  {
   "cell_type": "code",
   "execution_count": 13,
   "metadata": {},
   "outputs": [],
   "source": [
    "import numpy as np"
   ]
  },
  {
   "cell_type": "code",
   "execution_count": 4,
   "metadata": {
    "collapsed": true
   },
   "outputs": [
    {
     "data": {
      "text/plain": [
       "144.19198397661827"
      ]
     },
     "execution_count": 4,
     "metadata": {},
     "output_type": "execute_result"
    }
   ],
   "source": [
    "# For getting how long each group of customers would spend\n",
    "np.random.uniform(30,150) # Generate one random number between 30 and 150 under uniform distribution"
   ]
  },
  {
   "cell_type": "code",
   "execution_count": 5,
   "metadata": {},
   "outputs": [],
   "source": [
    "class Tables:\n",
    "    def __init__(self, num, size):\n",
    "        self.num=num # No. of the table\n",
    "        self.size = size # Size of the table: for group of up to 2, 4 or 6.\n",
    "        self.currentStatus = None # Is the table occupied or not.\n",
    "        self.time_remaining = 0 \n",
    "        \n",
    "    def busy(self):\n",
    "        if self.currentStatus != None:\n",
    "            return True\n",
    "        else:\n",
    "            return False\n",
    "    \n",
    "    def startNext(self, newtask):\n",
    "        self.currentStatus = newtask\n",
    "        self.time_remaining = newtask.time_needs() # here maybe generate a random time from 10 - 60 mins using generat"
   ]
  },
  {
   "cell_type": "code",
   "execution_count": 33,
   "metadata": {},
   "outputs": [],
   "source": [
    "def table_generator(number_tables_2, number_tables_4, number_tables_6):\n",
    "    table_2_list = []\n",
    "    table_4_list = []\n",
    "    table_6_list = [] \n",
    "    for i in range(number_tables_2):\n",
    "        table_2_list.append(Tables(i,2))\n",
    "    \n",
    "    for i in range(number_tables_4):\n",
    "        table_4_list.append(Tables(i+number_tables_2,4))\n",
    "    \n",
    "    for i in range(number_tables_6):\n",
    "        table_6_list.append(Tables(i+number_tables_4+number_tables_6,6))\n",
    "    \n",
    "    return (table_2_list, table_4_list, table_6_list)"
   ]
  },
  {
   "cell_type": "code",
   "execution_count": 38,
   "metadata": {},
   "outputs": [],
   "source": [
    "table_2_list, table_4_list, table_6_list = table_generator(6,4,2)"
   ]
  },
  {
   "cell_type": "code",
   "execution_count": 39,
   "metadata": {},
   "outputs": [
    {
     "data": {
      "text/plain": [
       "0"
      ]
     },
     "execution_count": 39,
     "metadata": {},
     "output_type": "execute_result"
    }
   ],
   "source": [
    "table_2_list[0].num"
   ]
  },
  {
   "cell_type": "code",
   "execution_count": 40,
   "metadata": {},
   "outputs": [
    {
     "data": {
      "text/plain": [
       "2"
      ]
     },
     "execution_count": 40,
     "metadata": {},
     "output_type": "execute_result"
    }
   ],
   "source": [
    "table_4_list[0].num"
   ]
  },
  {
   "cell_type": "code",
   "execution_count": 70,
   "metadata": {},
   "outputs": [],
   "source": [
    "class Groups:\n",
    "    def __init__(self, time, size, vip):\n",
    "        self.timestamp = time # Time when group registered (entered into the queue)\n",
    "        self.size = size #randomly define size from 1 - 6\n",
    "        self.vip = vip # Whether the group is a vip group\n",
    "        self.table=None # Which table the group will be assigned to\n",
    "    \n",
    "    def get_stamp(self):\n",
    "        return self.timestamp\n",
    "    \n",
    "    def get_size(self):\n",
    "        return self.size\n",
    "    \n",
    "    def wait_time(self, current_time):\n",
    "        return current_time - self.timestamp\n",
    "    \n",
    "    def get_vip(self):\n",
    "        return self.vip"
   ]
  },
  {
   "cell_type": "code",
   "execution_count": 78,
   "metadata": {},
   "outputs": [],
   "source": [
    "class Queue:\n",
    "    def __init__(self):\n",
    "        self.groups=[]\n",
    "    \n",
    "    def queue_size(self):\n",
    "        return len(self.groups)\n",
    "    \n",
    "    def isEmpty(self):\n",
    "        if len(self.groups)>0:\n",
    "            return True\n",
    "        else:\n",
    "            False\n",
    "    \n",
    "    def add_queue(self, group):\n",
    "        if group.get_vip():\n",
    "            self.groups.insert(4,group) # If current group is a VIP group, move it forward by four groups\n",
    "        else:\n",
    "            self.groups.insert(0, group)\n",
    "        \n",
    "    \n",
    "    def del_queue(self): #delete last=delete first come group \n",
    "        self.groups.pop()"
   ]
  },
  {
   "cell_type": "code",
   "execution_count": 26,
   "metadata": {},
   "outputs": [],
   "source": [
    "def mod_pert_random(low, likely, high, confidence=4, samples=30):\n",
    "    \"\"\"Produce random numbers according to the 'Modified PERT' \n",
    "    distribution. \n",
    "    \n",
    "    :param low: The lowest value expected as possible.\n",
    "    :param likely: The 'most likely' value, statistically, the mode.\n",
    "    :param high: The highest value expected as possible.\n",
    "    :param confidence: This is typically called 'lambda' in literature \n",
    "                        about the Modified PERT distribution. The value\n",
    "                        4 here matches the standard PERT curve. Higher\n",
    "                        values indicate higher confidence in the mode.\n",
    "                        \n",
    "    Formulas from \"Modified Pert Simulation\" by Paulo Buchsbaum.\n",
    "    \"\"\"\n",
    "    # Check minimum & maximum confidence levels to allow:\n",
    "    confidence = min(8, confidence)\n",
    "    confidence = max(2, confidence)\n",
    "\n",
    "    mean = (low + confidence * likely + high)/(confidence + 2)\n",
    "\n",
    "    a = (mean - low)/(high - low) * (confidence + 2)\n",
    "    b = ((confidence + 1) * high - low - confidence * likely) / (high - low)\n",
    "    \n",
    "    beta = np.random.beta(a, b, samples)\n",
    "    beta = beta * (high - low) + low\n",
    "    return beta"
   ]
  },
  {
   "cell_type": "code",
   "execution_count": 79,
   "metadata": {},
   "outputs": [],
   "source": [
    "def newGroup(Duration):\n",
    "    size = np.random.randint(1,7,30)\n",
    "    vip = []\n",
    "    for i in range(len(size)):\n",
    "        num = np.random.randint(0, 101, 1)\n",
    "        if (num >= 0) & (num <= 8):\n",
    "            vip.append(True)\n",
    "        else:\n",
    "            vip.append(False)\n",
    "    timestamp_list = mod_pert_random(0, 120, 240).astype(int)\n",
    "    counter = 0\n",
    "    group_2 = Queue()\n",
    "    group_4 = Queue()\n",
    "    group_6 = Queue()\n",
    "    for i in range(Duration):\n",
    "        if i in timestamp_list:\n",
    "            if size[counter] == 1 or size[counter] == 2:\n",
    "                group_2.add_queue(Groups(i, 2, vip[counter]))\n",
    "                counter += 1\n",
    "            elif size[counter] == 3 or size[counter] == 4:\n",
    "                group_4.add_queue(Groups(i, 4, vip[counter]))\n",
    "                counter += 1\n",
    "            else:\n",
    "                group_6.add_queue(Groups(i, 6, vip[counter]))\n",
    "                counter += 1\n",
    "    return (group_2, group_4 , group_6)"
   ]
  },
  {
   "cell_type": "code",
   "execution_count": 80,
   "metadata": {},
   "outputs": [],
   "source": [
    "group_2, group_4, group_6 = newGroup(240)"
   ]
  },
  {
   "cell_type": "markdown",
   "metadata": {},
   "source": [
    "# 1. test version 1 - Do Not Run"
   ]
  },
  {
   "cell_type": "code",
   "execution_count": 1,
   "metadata": {},
   "outputs": [],
   "source": [
    "def generation(Duration):\n",
    "    # Generate size \n",
    "    size = np.random.randint(1,7,30)\n",
    "    print(size)\n",
    "    \n",
    "    vip = []\n",
    "    for i in range(len(size)):\n",
    "        num = np.random.randint(0, 101, 1)\n",
    "        if (num >= 0) & (num <= 8):\n",
    "            vip.append(True)\n",
    "        else:\n",
    "            vip.append(False)\n",
    "    timestamp_list = mod_pert_random(0, 120, 240).astype(int)\n",
    "    \n",
    "    print(timestamp_list)\n",
    "    \n",
    "    counter = 0\n",
    "    queue_2 = Queue()\n",
    "    queue_4 = Queue()\n",
    "    queue_6 = Queue()\n",
    "    \n",
    "    \n",
    "    table_2,table_4,table_6=tablesSetting(6,4,2)\n",
    "    \n",
    "    total_timeR = [0]\n",
    "    nextGroup_endTime_2={}\n",
    "    \n",
    "    # Add every group into corresponding queue\n",
    "    groupNumb_2=0\n",
    "    groupNumb_4=0\n",
    "    groupNumb_6=0\n",
    "    \n",
    "    for i in range(Duration):\n",
    "        if i in timestamp_list:\n",
    "            if size[counter] == 1 or size[counter] == 2:\n",
    "                queue_2.add_queue(Group(i, 2, vip[counter], groupNumb_2))\n",
    "                counter += 1\n",
    "                groupNumb_2+=1\n",
    "            elif size[counter] == 3 or size[counter] == 4:\n",
    "                queue_4.add_queue(Group(i, 4, vip[counter], groupNumb_4))\n",
    "                counter += 1\n",
    "                groupNumb_4+=1\n",
    "            elif size[counter] == 5 or size[counter] == 6:\n",
    "                queue_6.add_queue(Group(i, 6, vip[counter], groupNumb_6))\n",
    "                counter += 1\n",
    "                groupNumb_6 += 1\n",
    "                \n",
    "                \n",
    "        \n",
    "    for i in range(Duration):   \n",
    "        if i in nextGroup_endTime_2.values():\n",
    "            for num in nextGroup_endTime_2.keys():\n",
    "                if i == nextGroup_endTime_2[num]:\n",
    "                    print('Clean:', num.num,'\\n')\n",
    "                    table_2[num.num].currentGroup = None\n",
    "            #if at least one of tables2 finish servicing, set currentGroup to None (this table is not busy)\n",
    "            \n",
    "        \n",
    "        if (len(queue_2.groups)>0):\n",
    "            current_q=[]\n",
    "            for item in queue_2.groups:\n",
    "                current_q.append(item.get_groupID())\n",
    "            print(current_q)\n",
    "            if (i >= (queue_2.groups[len(queue_2.groups)-1].get_stamp())):\n",
    "                for t in table_2:\n",
    "                    if (len(queue_2.groups)>0) and (not t.busy()) and (i>=(queue_2.groups[len(queue_2.groups)-1].get_stamp())):\n",
    "                        print('Head GroupID:',queue_2.groups[len(queue_2.groups)-1].get_groupID())\n",
    "                        nextGroup = queue_2.del_queue()\n",
    "                     \n",
    "                        print('Wait time:', nextGroup.wait_time(i))\n",
    "                     \n",
    "                     \n",
    "                     \n",
    "                        t.startNext(nextGroup)\n",
    "                        print('Group No.:', nextGroup.get_groupID())\n",
    "                        print('VIP?:', nextGroup.get_vip())\n",
    "                        print('Registration time:', nextGroup.get_stamp())\n",
    "                        print('Entering into table time:',i)\n",
    "                         \n",
    "                         \n",
    "                         \n",
    "                        nextGroup.table=t.num\n",
    "                        print('Table No.', t.num)\n",
    "                         \n",
    "                        nextGroup_endTime_2[t] = i+nextGroup.timeRequest+2  #2min for table cleaning, rearragement and the time to walk in blabla\n",
    "                        print('\\n')\n",
    "                        total_timeR.append(nextGroup.timeRequest+2)\n",
    "        \n",
    "    avg_timeR = sum(total_timeR)/len(total_timeR)\n",
    "        \n",
    "    return (queue_2, queue_4, queue_6)"
   ]
  },
  {
   "cell_type": "markdown",
   "metadata": {},
   "source": [
    "# 2. test version 2 - Do Not Run"
   ]
  },
  {
   "cell_type": "code",
   "execution_count": 2,
   "metadata": {},
   "outputs": [],
   "source": [
    "def generation(Duration):\n",
    "    size = np.random.randint(1,3,90)  #1-6 people for one group, and generate x groups\n",
    "    vip = []\n",
    "    for i in range(len(size)):\n",
    "        num = np.random.randint(0, 101, 1)\n",
    "        if (num >= 0) & (num <= 8):\n",
    "            vip.append(True)\n",
    "        else:\n",
    "            vip.append(False)\n",
    "    timestamp_list = mod_pert_random(0, 120, 240).astype(int)\n",
    "    counter = 0\n",
    "    queue_2 = Queue()\n",
    "    queue_4 = Queue()\n",
    "    queue_6 = Queue()\n",
    "    \n",
    "    table_2,table_4,table_6=tablesSetting(6,4,2)  #setting tables\n",
    "    \n",
    "    #print(table_2,table_4,table_6)\n",
    "    total_timeR = []\n",
    "    nextGroup_endTime_2={}\n",
    "    \n",
    "    groupNumb_2=1\n",
    "    groupNumb_4=1\n",
    "    groupNumb_6=1\n",
    "    \n",
    "    for i in range(Duration):\n",
    "        #print(i,'/n')\n",
    "        if i in timestamp_list:\n",
    "            #print(size[counter],'**')\n",
    "            if size[counter] == 1 or size[counter] == 2:\n",
    "                queue_2.add_queue(Group(i, 2, vip[counter],groupNumb_2))\n",
    "                \n",
    "                print('new regislation vip+No+time: ',vip[counter], groupNumb_2,i)\n",
    "                \n",
    "                counter += 1\n",
    "                groupNumb_2 += 1\n",
    "                \n",
    "                current_q=[]\n",
    "                for item in queue_2.groups:\n",
    "                    current_q.append(item.get_groupID())\n",
    "                print(current_q,'current queue_2')\n",
    "                \n",
    "            elif size[counter] == 3 or size[counter] == 4:\n",
    "                queue_4.add_queue(Group(i, 4, vip[counter],groupNumb_4))\n",
    "                counter += 1\n",
    "                groupNumb_4 += 1\n",
    "            elif size[counter] == 5 or size[counter] == 6:\n",
    "                queue_6.add_queue(Group(i, 6, vip[counter],groupNumb_6))\n",
    "                counter += 1\n",
    "                groupNumb_6 += 1\n",
    "                \n",
    "        \n",
    "        if i in nextGroup_endTime_2.values():\n",
    "            print('\\nkeys',nextGroup_endTime_2.keys())\n",
    "            print('values',nextGroup_endTime_2.values())\n",
    "            for n in list(nextGroup_endTime_2.keys()):\n",
    "                if i == int(nextGroup_endTime_2[n]):\n",
    "                    print('Clean:', n,'\\n')\n",
    "                    table_2[n-1].currentGroup = None\n",
    "            #table_2[对应nextGroup_endTime_2值为i的keys].currentGroup = None  \n",
    "            #if at least one of tables2 finish servicing, set currentGroup to None (this table is not busy)\n",
    "                    \n",
    "        \n",
    "        for t in table_2:\n",
    "            if (not t.busy()) and (not queue_2.isEmpty()):\n",
    "                \n",
    "                \n",
    "                print(t.get_tableNum(),'table ID')\n",
    "\n",
    "                nextGroup = queue_2.del_queue()\n",
    "                print(nextGroup.get_stamp(),'regislation time')\n",
    "                print(nextGroup.wait_time(i),'wait time')\n",
    "                t.startNext(nextGroup)\n",
    "                print('Group can sit now: ',nextGroup.get_groupID())\n",
    "                nextGroup_endTime_2[t.get_tableNum()] = i+nextGroup.get_time_request()+2  #end time for each 2-people-table\n",
    "                #2min for table cleaning, rearragement and the time to walk in blabla\n",
    "                print(nextGroup_endTime_2[t.get_tableNum()],'next group end time')\n",
    "                total_timeR.append(int(nextGroup.get_time_request())+2)  #def generation(Duration):\n",
    "                print(total_timeR,'total request time \\n')\n",
    "\n",
    "        \n",
    "    #avg_timeR = sum(total_timeR)/len(total_timeR)\n",
    "        "
   ]
  },
  {
   "cell_type": "code",
   "execution_count": 6,
   "metadata": {},
   "outputs": [
    {
     "name": "stdout",
     "output_type": "stream",
     "text": [
      "6\n7\n8\n9\n"
     ]
    }
   ],
   "source": [
    "for i in range(4):\n",
    "    print(i+6)"
   ]
  },
  {
   "cell_type": "code",
   "execution_count": 7,
   "metadata": {},
   "outputs": [
    {
     "data": {
      "text/plain": [
       "120"
      ]
     },
     "execution_count": 7,
     "metadata": {},
     "output_type": "execute_result"
    }
   ],
   "source": [
    "241 // 2"
   ]
  },
  {
   "cell_type": "code",
   "execution_count": 32,
   "metadata": {},
   "outputs": [],
   "source": [
    "time_2=[1,2,3,4,5,5,5,6,6,7,8,9]\n",
    "time=np.array(time_2)"
   ]
  },
  {
   "cell_type": "code",
   "execution_count": 36,
   "metadata": {},
   "outputs": [],
   "source": [
    "time_3=list(time)"
   ]
  },
  {
   "cell_type": "code",
   "execution_count": 34,
   "metadata": {},
   "outputs": [],
   "source": [
    "index = np.argwhere(time==6)\n",
    "time=np.delete(time, index)"
   ]
  },
  {
   "cell_type": "code",
   "execution_count": 37,
   "metadata": {},
   "outputs": [
    {
     "data": {
      "text/plain": [
       "[1, 2, 3, 4, 5, 5, 5, 7, 8, 9]"
      ]
     },
     "execution_count": 37,
     "metadata": {},
     "output_type": "execute_result"
    }
   ],
   "source": [
    "time_3"
   ]
  },
  {
   "cell_type": "code",
   "execution_count": 38,
   "metadata": {},
   "outputs": [],
   "source": [
    "time_3.remove(5)"
   ]
  },
  {
   "cell_type": "code",
   "execution_count": 39,
   "metadata": {},
   "outputs": [
    {
     "data": {
      "text/plain": [
       "[1, 2, 3, 4, 5, 5, 7, 8, 9]"
      ]
     },
     "execution_count": 39,
     "metadata": {},
     "output_type": "execute_result"
    }
   ],
   "source": [
    "time_3"
   ]
  },
  {
   "cell_type": "code",
   "execution_count": null,
   "metadata": {},
   "outputs": [],
   "source": []
  }
 ],
 "metadata": {
  "kernelspec": {
   "display_name": "Python 2",
   "language": "python",
   "name": "python2"
  },
  "language_info": {
   "codemirror_mode": {
    "name": "ipython",
    "version": 2
   },
   "file_extension": ".py",
   "mimetype": "text/x-python",
   "name": "python",
   "nbconvert_exporter": "python",
   "pygments_lexer": "ipython2",
   "version": "2.7.6"
  }
 },
 "nbformat": 4,
 "nbformat_minor": 0
}
